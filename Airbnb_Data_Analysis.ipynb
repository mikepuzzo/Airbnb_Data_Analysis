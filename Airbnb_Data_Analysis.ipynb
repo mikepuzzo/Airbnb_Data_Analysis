{
 "cells": [
  {
   "cell_type": "code",
   "execution_count": 1,
   "metadata": {},
   "outputs": [
    {
     "name": "stdout",
     "output_type": "stream",
     "text": [
      "Collecting kaggle\n",
      "  Downloading kaggle-1.5.12.tar.gz (58 kB)\n",
      "Requirement already satisfied: six>=1.10 in c:\\users\\uapug\\documents\\anaconda\\lib\\site-packages (from kaggle) (1.15.0)\n",
      "Requirement already satisfied: certifi in c:\\users\\uapug\\documents\\anaconda\\lib\\site-packages (from kaggle) (2020.6.20)\n",
      "Requirement already satisfied: python-dateutil in c:\\users\\uapug\\documents\\anaconda\\lib\\site-packages (from kaggle) (2.8.1)\n",
      "Requirement already satisfied: requests in c:\\users\\uapug\\documents\\anaconda\\lib\\site-packages (from kaggle) (2.23.0)\n",
      "Requirement already satisfied: tqdm in c:\\users\\uapug\\documents\\anaconda\\lib\\site-packages (from kaggle) (4.49.0)\n",
      "Requirement already satisfied: python-slugify in c:\\users\\uapug\\documents\\anaconda\\lib\\site-packages (from kaggle) (4.0.1)\n",
      "Requirement already satisfied: urllib3 in c:\\users\\uapug\\documents\\anaconda\\lib\\site-packages (from kaggle) (1.25.10)\n",
      "Requirement already satisfied: idna<3,>=2.5 in c:\\users\\uapug\\documents\\anaconda\\lib\\site-packages (from requests->kaggle) (2.10)\n",
      "Requirement already satisfied: chardet<4,>=3.0.2 in c:\\users\\uapug\\documents\\anaconda\\lib\\site-packages (from requests->kaggle) (3.0.4)\n",
      "Requirement already satisfied: text-unidecode>=1.3 in c:\\users\\uapug\\documents\\anaconda\\lib\\site-packages (from python-slugify->kaggle) (1.3)\n",
      "Building wheels for collected packages: kaggle\n",
      "  Building wheel for kaggle (setup.py): started\n",
      "  Building wheel for kaggle (setup.py): finished with status 'done'\n",
      "  Created wheel for kaggle: filename=kaggle-1.5.12-py3-none-any.whl size=73057 sha256=d59a4230ca395191c4601db7518a7a8a24f4ac105f72f7e1f61674f468139c47\n",
      "  Stored in directory: c:\\users\\uapug\\appdata\\local\\pip\\cache\\wheels\\62\\d6\\58\\5853130f941e75b2177d281eb7e44b4a98ed46dd155f556dc5\n",
      "Successfully built kaggle\n",
      "Installing collected packages: kaggle\n",
      "Successfully installed kaggle-1.5.12\n"
     ]
    }
   ],
   "source": [
    "\n",
    "! pip install kaggle"
   ]
  },
  {
   "cell_type": "code",
   "execution_count": 5,
   "metadata": {},
   "outputs": [
    {
     "name": "stderr",
     "output_type": "stream",
     "text": [
      "The syntax of the command is incorrect.\n"
     ]
    }
   ],
   "source": [
    "!mkdir ~/.kaggle"
   ]
  },
  {
   "cell_type": "code",
   "execution_count": 1,
   "metadata": {},
   "outputs": [
    {
     "name": "stderr",
     "output_type": "stream",
     "text": [
      "'cp' is not recognized as an internal or external command,\n",
      "operable program or batch file.\n"
     ]
    }
   ],
   "source": [
    "!cp /Users/uapug/Downloads/kaggle.json /Users/uapug/.kaggle/kaggle.json\n"
   ]
  },
  {
   "cell_type": "code",
   "execution_count": 3,
   "metadata": {},
   "outputs": [
    {
     "name": "stderr",
     "output_type": "stream",
     "text": [
      "The directory name is invalid.\n"
     ]
    }
   ],
   "source": [
    "!cd /Users/uapug/.kaggle/kaggle.json && ls"
   ]
  },
  {
   "cell_type": "code",
   "execution_count": 5,
   "metadata": {},
   "outputs": [
    {
     "name": "stdout",
     "output_type": "stream",
     "text": [
      "ref                                               title                            size  lastUpdated          downloadCount  voteCount  usabilityRating  \n",
      "------------------------------------------------  ------------------------------  -----  -------------------  -------------  ---------  ---------------  \n",
      "brittabettendorf/berlin-airbnb-data               Berlin Airbnb Data               88MB  2019-03-05 09:23:00          14171        399  0.8235294        \n",
      "thoroc/edinburgh-inside-airbnb                    Edinburgh Inside Airbnb         174MB  2019-08-24 05:44:33            174         10  0.7058824        \n",
      "barelydedicated/airbnb-duplicate-image-detection  AirBnB Duplicate Image Dataset  104MB  2019-12-20 04:10:34            158          7  0.8125           \n",
      "raghavs1003/airbnb-berlin-2020                    Airbnb Berlin 2020              108MB  2020-09-22 10:11:40             52          0  0.5882353        \n",
      "milorico/airbnb                                   Airbnb                           80MB  2020-05-07 16:21:05             13          0  0.11764706       \n"
     ]
    }
   ],
   "source": [
    "!kaggle datasets list -s \"Berlin Airbnb Data\""
   ]
  },
  {
   "cell_type": "code",
   "execution_count": 1,
   "metadata": {},
   "outputs": [
    {
     "name": "stdout",
     "output_type": "stream",
     "text": [
      "Downloading berlin-airbnb-data.zip to C:\\Users\\uapug\\Documents\\3rd semester\\python-projects\\Airbnb\\Airbnb_Data_Analysis\n",
      "\n"
     ]
    },
    {
     "name": "stderr",
     "output_type": "stream",
     "text": [
      "\n",
      "  0%|          | 0.00/87.7M [00:00<?, ?B/s]\n",
      "  1%|1         | 1.00M/87.7M [00:00<00:12, 7.45MB/s]\n",
      "  2%|2         | 2.00M/87.7M [00:00<00:11, 8.12MB/s]\n",
      "  5%|4         | 4.00M/87.7M [00:00<00:09, 8.95MB/s]\n",
      "  7%|6         | 6.00M/87.7M [00:00<00:08, 9.65MB/s]\n",
      "  9%|9         | 8.00M/87.7M [00:00<00:08, 9.46MB/s]\n",
      " 11%|#1        | 10.0M/87.7M [00:00<00:07, 10.4MB/s]\n",
      " 13%|#2        | 11.0M/87.7M [00:01<00:10, 7.97MB/s]\n",
      " 15%|#4        | 13.0M/87.7M [00:01<00:09, 8.51MB/s]\n",
      " 16%|#5        | 14.0M/87.7M [00:01<00:09, 8.30MB/s]\n",
      " 17%|#7        | 15.0M/87.7M [00:01<00:08, 8.57MB/s]\n",
      " 19%|#9        | 17.0M/87.7M [00:01<00:08, 8.87MB/s]\n",
      " 21%|##        | 18.0M/87.7M [00:01<00:08, 8.78MB/s]\n",
      " 23%|##2       | 20.0M/87.7M [00:02<00:07, 9.85MB/s]\n",
      " 24%|##3       | 21.0M/87.7M [00:02<00:07, 9.86MB/s]\n",
      " 25%|##5       | 22.0M/87.7M [00:02<00:07, 9.48MB/s]\n",
      " 27%|##7       | 24.0M/87.7M [00:02<00:06, 10.2MB/s]\n",
      " 30%|##9       | 26.0M/87.7M [00:02<00:06, 10.0MB/s]\n",
      " 32%|###1      | 28.0M/87.7M [00:02<00:05, 10.8MB/s]\n",
      " 34%|###4      | 30.0M/87.7M [00:03<00:05, 10.8MB/s]\n",
      " 36%|###6      | 32.0M/87.7M [00:03<00:05, 10.9MB/s]\n",
      " 39%|###8      | 34.0M/87.7M [00:03<00:05, 11.0MB/s]\n",
      " 41%|####1     | 36.0M/87.7M [00:03<00:05, 9.84MB/s]\n",
      " 42%|####2     | 37.0M/87.7M [00:03<00:06, 8.34MB/s]\n",
      " 43%|####3     | 38.0M/87.7M [00:04<00:07, 6.89MB/s]\n",
      " 44%|####4     | 39.0M/87.7M [00:04<00:08, 5.92MB/s]\n",
      " 46%|####5     | 40.0M/87.7M [00:04<00:08, 6.04MB/s]\n",
      " 47%|####6     | 41.0M/87.7M [00:04<00:07, 6.34MB/s]\n",
      " 48%|####7     | 42.0M/87.7M [00:04<00:07, 6.81MB/s]\n",
      " 49%|####9     | 43.0M/87.7M [00:04<00:06, 7.43MB/s]\n",
      " 50%|#####     | 44.0M/87.7M [00:05<00:07, 5.79MB/s]\n",
      " 51%|#####1    | 45.0M/87.7M [00:05<00:08, 5.46MB/s]\n",
      " 52%|#####2    | 46.0M/87.7M [00:05<00:07, 5.89MB/s]\n",
      " 54%|#####3    | 47.0M/87.7M [00:05<00:06, 6.42MB/s]\n",
      " 55%|#####4    | 48.0M/87.7M [00:05<00:06, 6.83MB/s]\n",
      " 57%|#####7    | 50.0M/87.7M [00:05<00:05, 7.76MB/s]\n",
      " 58%|#####8    | 51.0M/87.7M [00:06<00:04, 7.95MB/s]\n",
      " 59%|#####9    | 52.0M/87.7M [00:06<00:04, 7.85MB/s]\n",
      " 62%|######1   | 54.0M/87.7M [00:06<00:04, 7.72MB/s]\n",
      " 63%|######2   | 55.0M/87.7M [00:06<00:04, 7.83MB/s]\n",
      " 65%|######5   | 57.0M/87.7M [00:06<00:03, 9.31MB/s]\n",
      " 67%|######7   | 59.0M/87.7M [00:07<00:03, 9.21MB/s]\n",
      " 68%|######8   | 60.0M/87.7M [00:07<00:03, 9.36MB/s]\n",
      " 71%|#######   | 62.0M/87.7M [00:07<00:02, 10.3MB/s]\n",
      " 73%|#######2  | 64.0M/87.7M [00:07<00:02, 10.3MB/s]\n",
      " 75%|#######5  | 66.0M/87.7M [00:07<00:02, 10.7MB/s]\n",
      " 78%|#######7  | 68.0M/87.7M [00:07<00:02, 10.3MB/s]\n",
      " 80%|#######9  | 70.0M/87.7M [00:08<00:01, 10.7MB/s]\n",
      " 82%|########2 | 72.0M/87.7M [00:08<00:01, 10.9MB/s]\n",
      " 84%|########4 | 74.0M/87.7M [00:08<00:01, 11.1MB/s]\n",
      " 87%|########6 | 76.0M/87.7M [00:08<00:01, 11.3MB/s]\n",
      " 89%|########8 | 78.0M/87.7M [00:08<00:00, 11.1MB/s]\n",
      " 91%|#########1| 80.0M/87.7M [00:08<00:00, 11.3MB/s]\n",
      " 94%|#########3| 82.0M/87.7M [00:09<00:00, 10.8MB/s]\n",
      " 96%|#########5| 84.0M/87.7M [00:09<00:00, 10.3MB/s]\n",
      " 98%|#########8| 86.0M/87.7M [00:09<00:00, 10.2MB/s]\n",
      "100%|##########| 87.7M/87.7M [00:09<00:00, 9.23MB/s]\n",
      "100%|##########| 87.7M/87.7M [00:09<00:00, 9.31MB/s]\n"
     ]
    }
   ],
   "source": [
    "!kaggle datasets download -d \"brittabettendorf/berlin-airbnb-data\""
   ]
  },
  {
   "cell_type": "code",
   "execution_count": 5,
   "metadata": {},
   "outputs": [
    {
     "name": "stdout",
     "output_type": "stream",
     "text": [
      "Collecting pyspark\n",
      "  Using cached pyspark-3.1.1.tar.gz (212.3 MB)\n",
      "Collecting py4j==0.10.9\n",
      "  Using cached py4j-0.10.9-py2.py3-none-any.whl (198 kB)\n",
      "Building wheels for collected packages: pyspark\n",
      "  Building wheel for pyspark (setup.py): started\n",
      "  Building wheel for pyspark (setup.py): finished with status 'done'\n",
      "  Created wheel for pyspark: filename=pyspark-3.1.1-py2.py3-none-any.whl size=212767609 sha256=5e382270597196bd6096669dd044eefd44a212c33977e706ca9cf6f86b442062\n",
      "  Stored in directory: c:\\users\\uapug\\appdata\\local\\pip\\cache\\wheels\\43\\47\\42\\bc413c760cf9d3f7b46ab7cd6590e8c47ebfd19a7386cd4a57\n",
      "Successfully built pyspark\n",
      "Installing collected packages: py4j, pyspark\n",
      "Successfully installed py4j-0.10.9 pyspark-3.1.1\n"
     ]
    }
   ],
   "source": [
    "!pip install pyspark"
   ]
  },
  {
   "cell_type": "code",
   "execution_count": null,
   "metadata": {},
   "outputs": [],
   "source": [
    "from pyspark.sql import SparkSession\n",
    "\n"
   ]
  }
 ],
 "metadata": {
  "kernelspec": {
   "display_name": "Python 3",
   "language": "python",
   "name": "python3"
  },
  "language_info": {
   "codemirror_mode": {
    "name": "ipython",
    "version": 3
   },
   "file_extension": ".py",
   "mimetype": "text/x-python",
   "name": "python",
   "nbconvert_exporter": "python",
   "pygments_lexer": "ipython3",
   "version": "3.7.6"
  }
 },
 "nbformat": 4,
 "nbformat_minor": 4
}
