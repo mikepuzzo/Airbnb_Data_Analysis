{
 "cells": [
  {
   "cell_type": "code",
   "execution_count": 1,
   "metadata": {},
   "outputs": [
    {
     "name": "stdout",
     "output_type": "stream",
     "text": [
      "Collecting kaggle\n",
      "  Downloading kaggle-1.5.12.tar.gz (58 kB)\n",
      "Requirement already satisfied: six>=1.10 in c:\\users\\uapug\\documents\\anaconda\\lib\\site-packages (from kaggle) (1.15.0)\n",
      "Requirement already satisfied: certifi in c:\\users\\uapug\\documents\\anaconda\\lib\\site-packages (from kaggle) (2020.6.20)\n",
      "Requirement already satisfied: python-dateutil in c:\\users\\uapug\\documents\\anaconda\\lib\\site-packages (from kaggle) (2.8.1)\n",
      "Requirement already satisfied: requests in c:\\users\\uapug\\documents\\anaconda\\lib\\site-packages (from kaggle) (2.23.0)\n",
      "Requirement already satisfied: tqdm in c:\\users\\uapug\\documents\\anaconda\\lib\\site-packages (from kaggle) (4.49.0)\n",
      "Requirement already satisfied: python-slugify in c:\\users\\uapug\\documents\\anaconda\\lib\\site-packages (from kaggle) (4.0.1)\n",
      "Requirement already satisfied: urllib3 in c:\\users\\uapug\\documents\\anaconda\\lib\\site-packages (from kaggle) (1.25.10)\n",
      "Requirement already satisfied: idna<3,>=2.5 in c:\\users\\uapug\\documents\\anaconda\\lib\\site-packages (from requests->kaggle) (2.10)\n",
      "Requirement already satisfied: chardet<4,>=3.0.2 in c:\\users\\uapug\\documents\\anaconda\\lib\\site-packages (from requests->kaggle) (3.0.4)\n",
      "Requirement already satisfied: text-unidecode>=1.3 in c:\\users\\uapug\\documents\\anaconda\\lib\\site-packages (from python-slugify->kaggle) (1.3)\n",
      "Building wheels for collected packages: kaggle\n",
      "  Building wheel for kaggle (setup.py): started\n",
      "  Building wheel for kaggle (setup.py): finished with status 'done'\n",
      "  Created wheel for kaggle: filename=kaggle-1.5.12-py3-none-any.whl size=73057 sha256=d59a4230ca395191c4601db7518a7a8a24f4ac105f72f7e1f61674f468139c47\n",
      "  Stored in directory: c:\\users\\uapug\\appdata\\local\\pip\\cache\\wheels\\62\\d6\\58\\5853130f941e75b2177d281eb7e44b4a98ed46dd155f556dc5\n",
      "Successfully built kaggle\n",
      "Installing collected packages: kaggle\n",
      "Successfully installed kaggle-1.5.12\n"
     ]
    }
   ],
   "source": [
    "\n",
    "! pip install kaggle"
   ]
  },
  {
   "cell_type": "code",
   "execution_count": 5,
   "metadata": {},
   "outputs": [
    {
     "name": "stderr",
     "output_type": "stream",
     "text": [
      "The syntax of the command is incorrect.\n"
     ]
    }
   ],
   "source": [
    "!mkdir ~/.kaggle"
   ]
  },
  {
   "cell_type": "code",
   "execution_count": 1,
   "metadata": {},
   "outputs": [
    {
     "name": "stderr",
     "output_type": "stream",
     "text": [
      "'cp' is not recognized as an internal or external command,\n",
      "operable program or batch file.\n"
     ]
    }
   ],
   "source": [
    "!cp /Users/uapug/Downloads/kaggle.json /Users/uapug/.kaggle/kaggle.json\n"
   ]
  },
  {
   "cell_type": "code",
   "execution_count": 3,
   "metadata": {},
   "outputs": [
    {
     "name": "stderr",
     "output_type": "stream",
     "text": [
      "The directory name is invalid.\n"
     ]
    }
   ],
   "source": [
    "!cd /Users/uapug/.kaggle/kaggle.json && ls"
   ]
  },
  {
   "cell_type": "code",
   "execution_count": 5,
   "metadata": {},
   "outputs": [
    {
     "name": "stdout",
     "output_type": "stream",
     "text": [
      "ref                                               title                            size  lastUpdated          downloadCount  voteCount  usabilityRating  \n",
      "------------------------------------------------  ------------------------------  -----  -------------------  -------------  ---------  ---------------  \n",
      "brittabettendorf/berlin-airbnb-data               Berlin Airbnb Data               88MB  2019-03-05 09:23:00          14171        399  0.8235294        \n",
      "thoroc/edinburgh-inside-airbnb                    Edinburgh Inside Airbnb         174MB  2019-08-24 05:44:33            174         10  0.7058824        \n",
      "barelydedicated/airbnb-duplicate-image-detection  AirBnB Duplicate Image Dataset  104MB  2019-12-20 04:10:34            158          7  0.8125           \n",
      "raghavs1003/airbnb-berlin-2020                    Airbnb Berlin 2020              108MB  2020-09-22 10:11:40             52          0  0.5882353        \n",
      "milorico/airbnb                                   Airbnb                           80MB  2020-05-07 16:21:05             13          0  0.11764706       \n"
     ]
    }
   ],
   "source": [
    "!kaggle datasets list -s \"Berlin Airbnb Data\""
   ]
  },
  {
   "cell_type": "code",
   "execution_count": null,
   "metadata": {},
   "outputs": [],
   "source": []
  }
 ],
 "metadata": {
  "kernelspec": {
   "display_name": "Python 3",
   "language": "python",
   "name": "python3"
  },
  "language_info": {
   "codemirror_mode": {
    "name": "ipython",
    "version": 3
   },
   "file_extension": ".py",
   "mimetype": "text/x-python",
   "name": "python",
   "nbconvert_exporter": "python",
   "pygments_lexer": "ipython3",
   "version": "3.7.6"
  }
 },
 "nbformat": 4,
 "nbformat_minor": 4
}
